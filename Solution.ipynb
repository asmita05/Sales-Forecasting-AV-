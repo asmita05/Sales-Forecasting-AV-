{
 "cells": [
  {
   "cell_type": "markdown",
   "metadata": {},
   "source": [
    "# LearnX Sales Forecasting"
   ]
  },
  {
   "cell_type": "markdown",
   "metadata": {},
   "source": [
    "Sales data for more than 2 years from 600 courses of LearnX's top domains is available along with information on\n",
    "\n",
    "Competition in the market for each course\n",
    "Course Type (Course/Program/Degree)\n",
    "Holiday Information for each day\n",
    "User Traffic on Course Page for each day\n",
    "\n",
    "Your task is to predict the course sales for each course in the test set for the next 60 days"
   ]
  },
  {
   "cell_type": "markdown",
   "metadata": {},
   "source": [
    "## Data Dictionary\n",
    "Train (Historical Sales Data)\n",
    "Variable\tDefinition\n",
    "ID - Unique Identifier for a row\n",
    "Day_No\t- Day Number\n",
    "Course_ID\t- Unique ID for a course\n",
    "Course_Domain\t- Course Domain (Development, Finance etc.)\n",
    "Course_Type - \tCourse/Program/Degree\n",
    "Short_Promotion\t- Whether Short Term Promotion is Live\n",
    "Public_Holiday\t- Regional/Public Holiday\n",
    "Long_Promotion\t- Whether Long Term Promotion is Live for the course\n",
    "User_Traffic\t- Number of customers landing on the course page\n",
    "Competition_Metric\t- A metric defining the strength of competition \n",
    "Sales - (Target) Total Course Sales"
   ]
  },
  {
   "cell_type": "code",
   "execution_count": 1,
   "metadata": {},
   "outputs": [
    {
     "name": "stderr",
     "output_type": "stream",
     "text": [
      "C:\\Users\\Asmita\\Anaconda3\\lib\\site-packages\\statsmodels\\compat\\pandas.py:56: FutureWarning: The pandas.core.datetools module is deprecated and will be removed in a future version. Please use the pandas.tseries module instead.\n",
      "  from pandas.core import datetools\n"
     ]
    }
   ],
   "source": [
    "import datetime\n",
    "import numpy as np\n",
    "import pandas as pd\n",
    "import matplotlib.pyplot as plt\n",
    "import statsmodels.api as sm\n",
    "from statsmodels.stats.outliers_influence import variance_inflation_factor\n",
    "import warnings\n",
    "warnings.filterwarnings('ignore')"
   ]
  },
  {
   "cell_type": "code",
   "execution_count": 2,
   "metadata": {},
   "outputs": [],
   "source": [
    "train = pd.read_csv(\"train.csv\")\n",
    "test = pd.read_csv(\"test.csv\")\n",
    "submission = pd.read_csv(\"sample_sunmission.csv\")"
   ]
  },
  {
   "cell_type": "code",
   "execution_count": 3,
   "metadata": {},
   "outputs": [
    {
     "name": "stdout",
     "output_type": "stream",
     "text": [
      "(512087, 11)\n",
      "(36000, 9)\n"
     ]
    }
   ],
   "source": [
    "print(train.shape)\n",
    "print(test.shape)"
   ]
  },
  {
   "cell_type": "code",
   "execution_count": 4,
   "metadata": {},
   "outputs": [
    {
     "data": {
      "text/plain": [
       "ID                    512087\n",
       "Day_No                   882\n",
       "Course_ID                600\n",
       "Course_Domain              4\n",
       "Course_Type                3\n",
       "Short_Promotion            2\n",
       "Public_Holiday             2\n",
       "Long_Promotion             2\n",
       "User_Traffic            3475\n",
       "Competition_Metric       196\n",
       "Sales                    544\n",
       "dtype: int64"
      ]
     },
     "execution_count": 4,
     "metadata": {},
     "output_type": "execute_result"
    }
   ],
   "source": [
    "train.nunique()"
   ]
  },
  {
   "cell_type": "code",
   "execution_count": 5,
   "metadata": {},
   "outputs": [],
   "source": [
    "df1 = pd.DataFrame({\"Day_No\": train[\"Day_No\"].iloc[0:882],\n",
    "                   \"Date\": pd.date_range(start = \"2017-10-29\", periods = 882, freq = \"D\")})\n",
    "df1[\"Day_No\"].astype(int)\n",
    "train_df = pd.merge(train, df1, on = \"Day_No\", how = \"left\")"
   ]
  },
  {
   "cell_type": "code",
   "execution_count": 6,
   "metadata": {},
   "outputs": [],
   "source": [
    "df2 = pd.DataFrame({\"Day_No\": test[\"Day_No\"].iloc[0:60],\n",
    "                   \"Date\": pd.date_range(start = \"2020-03-29\", periods = 60, freq = \"D\")})\n",
    "df2[\"Day_No\"].astype(int)\n",
    "test_df = pd.merge(test, df2, on = \"Day_No\", how = \"left\")"
   ]
  },
  {
   "cell_type": "code",
   "execution_count": 7,
   "metadata": {},
   "outputs": [],
   "source": [
    "train_df.drop('ID', axis = 1, inplace = True)\n",
    "test_df.drop('ID', axis = 1, inplace = True)"
   ]
  },
  {
   "cell_type": "code",
   "execution_count": 8,
   "metadata": {},
   "outputs": [],
   "source": [
    "train_df[\"Competition_Metric\"].fillna(train_df['Competition_Metric'].mean(), inplace = True)\n",
    "test_df[\"Competition_Metric\"].fillna(test_df['Competition_Metric'].mean(), inplace = True)"
   ]
  },
  {
   "cell_type": "code",
   "execution_count": 9,
   "metadata": {},
   "outputs": [
    {
     "name": "stdout",
     "output_type": "stream",
     "text": [
      "Development             264295\n",
      "Software Marketing      166172\n",
      "Finance & Accounting     77210\n",
      "Business                  4410\n",
      "Name: Course_Domain, dtype: int64\n",
      "Course     262747\n",
      "Program    247576\n",
      "Degree       1764\n",
      "Name: Course_Type, dtype: int64\n"
     ]
    }
   ],
   "source": [
    "print(train_df['Course_Domain'].value_counts())\n",
    "print(train_df['Course_Type'].value_counts())"
   ]
  },
  {
   "cell_type": "markdown",
   "metadata": {},
   "source": [
    "### Feature Engineering"
   ]
  },
  {
   "cell_type": "code",
   "execution_count": 10,
   "metadata": {},
   "outputs": [],
   "source": [
    "train_df['Date'] = pd.to_datetime(train_df['Date'])\n",
    "train_df['week'] = train_df['Date'].dt.weekofyear\n",
    "train_df['month'] = train_df['Date'].dt.month\n",
    "train_df['week_day'] = train_df['Date'].dt.dayofweek\n",
    "train_df['day_of_year'] = train_df['Date'].dt.dayofyear\n",
    "train_df['day'] = train_df['Date'].dt.day\n",
    "train_df['month_end'] = train_df['Date'].dt.is_month_end\n",
    "train_df['month_start'] = train_df['Date'].dt.is_month_start\n",
    "\n",
    "\n",
    "test_df['Date'] = pd.to_datetime(test_df['Date'])\n",
    "test_df['week'] = test_df['Date'].dt.weekofyear\n",
    "test_df['month'] = test_df['Date'].dt.month\n",
    "test_df['week_day'] = test_df['Date'].dt.dayofweek\n",
    "test_df['day_of_year'] = test_df['Date'].dt.dayofyear\n",
    "test_df['day'] = test_df['Date'].dt.day\n",
    "test_df['month_end'] = test_df['Date'].dt.is_month_end\n",
    "test_df['month_start'] = test_df['Date'].dt.is_month_start"
   ]
  },
  {
   "cell_type": "code",
   "execution_count": 11,
   "metadata": {},
   "outputs": [],
   "source": [
    "course_domain_dict = {'Development':0, 'Software Marketing':1, 'Finance & Accounting':2, 'Business':3}\n",
    "course_type_dict = {'Course':0, 'Program':1, 'Degree':2}\n",
    "train_df['Course_Domain'] = train_df['Course_Domain'].apply(lambda x : course_domain_dict[x])\n",
    "test_df['Course_Domain'] = test_df['Course_Domain'].apply(lambda x : course_domain_dict[x])\n",
    "\n",
    "train_df['Course_Type'] = train_df['Course_Type'].apply(lambda x : course_type_dict[x])\n",
    "test_df['Course_Type'] = test_df['Course_Type'].apply(lambda x : course_type_dict[x])"
   ]
  },
  {
   "cell_type": "code",
   "execution_count": 12,
   "metadata": {},
   "outputs": [],
   "source": [
    "train_df['month_end'] = train_df['month_end'].astype(str)\n",
    "train_df['month_start'] = train_df['month_start'].astype(str)\n",
    "month_end_dict = {'False' : 0, 'True' : 1}\n",
    "month_start_dict = {'False' : 0, 'True' : 1}\n",
    "train_df['month_start'] = train_df['month_start'].apply(lambda x : month_start_dict[x])\n",
    "train_df['month_end'] = train_df['month_end'].apply(lambda x : month_end_dict[x])\n",
    "\n",
    "\n",
    "test_df['month_end'] = test_df['month_end'].astype(str)\n",
    "test_df['month_start'] = test_df['month_start'].astype(str)\n",
    "test_df['month_start'] = test_df['month_start'].apply(lambda x : month_start_dict[x])\n",
    "test_df['month_end'] = test_df['month_end'].apply(lambda x : month_end_dict[x])"
   ]
  },
  {
   "cell_type": "code",
   "execution_count": 13,
   "metadata": {},
   "outputs": [],
   "source": [
    "train_df.drop('Day_No', axis = 1, inplace = True)\n",
    "test_df.drop('Day_No', axis = 1, inplace = True)"
   ]
  },
  {
   "cell_type": "code",
   "execution_count": 14,
   "metadata": {},
   "outputs": [],
   "source": [
    "User_data = train_df.groupby(\"Course_ID\").agg({\"User_Traffic\": [\"sum\",\"mean\"], \"Sales\": [\"sum\",\"mean\"]})\n",
    "User_data.columns = ['total_traffic_courseid','mean_traffic_courseid','total_sales_courseid',\n",
    "                    'mean_sales_courseid']\n",
    "User_data = User_data.reset_index(drop = False)\n",
    "train_df = train_df.merge(User_data, on = \"Course_ID\", how = \"left\")\n",
    "test_df = test_df.merge(User_data, on = \"Course_ID\", how = \"left\")"
   ]
  },
  {
   "cell_type": "code",
   "execution_count": 15,
   "metadata": {},
   "outputs": [],
   "source": [
    "train_df['traffic_rank_id'] = train_df.groupby(\"Course_ID\")['total_traffic_courseid'].rank()\n",
    "train_df['sales_rank_id'] = train_df.groupby(\"Course_ID\")['total_sales_courseid'].rank()\n",
    "test_df['traffic_rank_id'] = test_df.groupby(\"Course_ID\")['total_traffic_courseid'].rank()\n",
    "test_df['sales_rank_id'] = test_df.groupby(\"Course_ID\")['total_sales_courseid'].rank()"
   ]
  },
  {
   "cell_type": "code",
   "execution_count": 16,
   "metadata": {},
   "outputs": [],
   "source": [
    "train_df['buy_percent'] =(train_df['total_sales_courseid']*100)/ train_df['total_traffic_courseid']    \n",
    "test_df['buy_percent'] =(test_df['total_sales_courseid']*100)/ test_df['total_traffic_courseid']    "
   ]
  },
  {
   "cell_type": "code",
   "execution_count": 17,
   "metadata": {},
   "outputs": [],
   "source": [
    "User_data = train_df.groupby([\"Course_ID\", \"Course_Domain\"]).agg({\"User_Traffic\": [\"sum\",\"mean\"],\n",
    "                    \"Sales\": [\"sum\",\"mean\"]})\n",
    "User_data.columns = ['tot_traffic_id_domain','mean_traffic_id_domain','tot_sales_id_domain',\n",
    "                    'mean_sales_id_domain']\n",
    "User_data = User_data.reset_index(drop = False)\n",
    "train_df = train_df.merge(User_data, on = [\"Course_ID\",\"Course_Domain\"], how = \"left\")\n",
    "test_df = test_df.merge(User_data, on = [\"Course_ID\",\"Course_Domain\"], how = \"left\")"
   ]
  },
  {
   "cell_type": "code",
   "execution_count": 18,
   "metadata": {},
   "outputs": [],
   "source": [
    "train_df['buy_percent_id_domain'] =(train_df['tot_sales_id_domain']*100)/train_df['tot_traffic_id_domain'] \n",
    "test_df['buy_percent_id_domain'] =(test_df['tot_sales_id_domain']*100)/test_df['tot_traffic_id_domain']     "
   ]
  },
  {
   "cell_type": "code",
   "execution_count": 19,
   "metadata": {},
   "outputs": [],
   "source": [
    "User_data = train_df.groupby([\"Course_ID\", \"Course_Type\"]).agg({\"User_Traffic\": [\"sum\",\"mean\"],\n",
    "                    \"Sales\": [\"sum\",\"mean\"]})\n",
    "User_data.columns = ['tot_traffic_id_type','mean_traffic_id_type','tot_sales_id_type',\n",
    "                    'mean_sales_id_domain']\n",
    "User_data = User_data.reset_index(drop = False)\n",
    "train_df = train_df.merge(User_data, on = [\"Course_ID\",\"Course_Type\"], how = \"left\")\n",
    "test_df = test_df.merge(User_data, on = [\"Course_ID\",\"Course_Type\"], how = \"left\")"
   ]
  },
  {
   "cell_type": "code",
   "execution_count": 20,
   "metadata": {},
   "outputs": [],
   "source": [
    "train_df['buy_percent_id_type'] =(train_df['tot_sales_id_type']*100)/train_df['tot_traffic_id_type']   \n",
    "test_df['buy_percent_id_type'] =(test_df['tot_sales_id_type']*100)/test_df['tot_traffic_id_type']    "
   ]
  },
  {
   "cell_type": "code",
   "execution_count": 21,
   "metadata": {},
   "outputs": [],
   "source": [
    "User_data = train_df.groupby([\"Course_ID\", \"Course_Domain\",\"Course_Type\"]).agg({\"User_Traffic\":\n",
    "                [\"sum\",\"mean\"],\"Sales\": [\"sum\",\"mean\"]})\n",
    "User_data.columns = ['tot_traffic_id_do_ty','mean_traffic_id_do_ty','tot_sales_id_do_ty',\n",
    "                    'mean_sales_id_do_ty']\n",
    "User_data = User_data.reset_index(drop = False)\n",
    "train_df = train_df.merge(User_data, on = [\"Course_ID\",\"Course_Domain\",\"Course_Type\"], how = \"left\")\n",
    "test_df = test_df.merge(User_data, on = [\"Course_ID\",\"Course_Domain\",\"Course_Type\"], how = \"left\")"
   ]
  },
  {
   "cell_type": "code",
   "execution_count": 22,
   "metadata": {},
   "outputs": [],
   "source": [
    "User_data = train_df.groupby([\"Course_ID\", \"week_day\"]).agg({\"User_Traffic\":\"sum\",\"Sales\": \"sum\"})\n",
    "User_data.columns = ['tot_traffic_id_weekday', 'tot_sales_id_weekday']\n",
    "User_data = User_data.reset_index(drop = False)\n",
    "train_df = train_df.merge(User_data, on = [\"Course_ID\",\"week_day\"], how = \"left\")\n",
    "test_df = test_df.merge(User_data, on = [\"Course_ID\",\"week_day\"], how = \"left\")"
   ]
  },
  {
   "cell_type": "code",
   "execution_count": 23,
   "metadata": {},
   "outputs": [],
   "source": [
    "User_data = train_df.groupby([\"Course_ID\", \"week\"]).agg({\"User_Traffic\":\"sum\",\"Sales\": \"sum\"})\n",
    "User_data.columns = ['tot_traffic_id_week', 'tot_sales_id_week']\n",
    "User_data = User_data.reset_index(drop = False)\n",
    "train_df = train_df.merge(User_data, on = [\"Course_ID\",\"week\"], how = \"left\")\n",
    "test_df = test_df.merge(User_data, on = [\"Course_ID\",\"week\"], how = \"left\")"
   ]
  },
  {
   "cell_type": "code",
   "execution_count": 24,
   "metadata": {},
   "outputs": [],
   "source": [
    "User_data = train_df.groupby(\"Course_ID\").agg({\"Competition_Metric\": \"mean\"})\n",
    "User_data.columns = ['mean_metric_id']\n",
    "User_data = User_data.reset_index(drop = False)\n",
    "train_df = train_df.merge(User_data, on = \"Course_ID\", how = \"left\")\n",
    "test_df = test_df.merge(User_data, on = \"Course_ID\", how = \"left\")"
   ]
  },
  {
   "cell_type": "code",
   "execution_count": 25,
   "metadata": {},
   "outputs": [],
   "source": [
    "train_df['metric_rank_id'] = train_df.groupby(\"Course_ID\")['mean_metric_id'].rank()\n",
    "test_df['metric_rank_id'] = test_df.groupby(\"Course_ID\")['mean_metric_id'].rank()"
   ]
  },
  {
   "cell_type": "code",
   "execution_count": 26,
   "metadata": {},
   "outputs": [],
   "source": [
    "User_data = train_df.groupby([\"Course_ID\",\"Long_Promotion\"]).agg({\"Competition_Metric\": \"mean\"})\n",
    "User_data.columns = ['mean_metric_id_longpro']\n",
    "User_data = User_data.reset_index(drop = False)\n",
    "train_df = train_df.merge(User_data, on = [\"Course_ID\",\"Long_Promotion\"], how = \"left\")\n",
    "test_df = test_df.merge(User_data, on = [\"Course_ID\",\"Long_Promotion\"], how = \"left\")"
   ]
  },
  {
   "cell_type": "code",
   "execution_count": 27,
   "metadata": {},
   "outputs": [],
   "source": [
    "User_data = train_df.groupby([\"Course_ID\",\"Short_Promotion\"]).agg({\"Competition_Metric\": \"mean\"})\n",
    "User_data.columns = ['mean_metric_id_Shortpro']\n",
    "User_data = User_data.reset_index(drop = False)\n",
    "train_df = train_df.merge(User_data, on = [\"Course_ID\",\"Short_Promotion\"], how = \"left\")\n",
    "test_df = test_df.merge(User_data, on = [\"Course_ID\",\"Short_Promotion\"], how = \"left\")"
   ]
  },
  {
   "cell_type": "code",
   "execution_count": 28,
   "metadata": {},
   "outputs": [],
   "source": [
    "User_data = train_df.groupby([\"Course_ID\",\"week_day\"]).agg({\"Competition_Metric\": \"mean\"})\n",
    "User_data.columns = ['mean_metric_id_weekday']\n",
    "User_data = User_data.reset_index(drop = False)\n",
    "train_df = train_df.merge(User_data, on = [\"Course_ID\",\"week_day\"], how = \"left\")\n",
    "test_df = test_df.merge(User_data, on = [\"Course_ID\",\"week_day\"], how = \"left\")"
   ]
  },
  {
   "cell_type": "code",
   "execution_count": 29,
   "metadata": {},
   "outputs": [],
   "source": [
    "train_df['sales_shift1'] = train_df.groupby(\"Course_ID\")[\"Sales\"].shift(1).fillna(0)\n",
    "train_df['sales_shift3'] = train_df.groupby(\"Course_ID\")[\"Sales\"].shift(3).fillna(0)\n",
    "train_df['sales_shift5'] = train_df.groupby(\"Course_ID\")[\"Sales\"].shift(5).fillna(0)\n",
    "train_df['sales_shift7'] = train_df.groupby(\"Course_ID\")[\"Sales\"].shift(7).fillna(0)"
   ]
  },
  {
   "cell_type": "code",
   "execution_count": 30,
   "metadata": {},
   "outputs": [],
   "source": [
    "train_df['change_sales_1day'] = (train_df['sales_shift1'] - train_df['Sales'])*100/train_df['Sales'] \n",
    "train_df['change_sales_3day'] = (train_df['sales_shift3'] - train_df['Sales'])*100/train_df['Sales'] \n",
    "train_df['change_sales_5day'] = (train_df['sales_shift5'] - train_df['Sales'])*100/train_df['Sales'] \n",
    "train_df['change_sales_7day'] = (train_df['sales_shift7'] - train_df['Sales'])*100/train_df['Sales'] "
   ]
  },
  {
   "cell_type": "code",
   "execution_count": 31,
   "metadata": {},
   "outputs": [],
   "source": [
    "User_data = train_df.groupby(\"Course_ID\").agg({\"change_sales_1day\": \"mean\", \"change_sales_3day\": \"mean\",\n",
    "                        \"change_sales_5day\":\"mean\", \"change_sales_7day\": \"mean\"})\n",
    "User_data.columns = ['mean_change_sales1day', 'mean_change_sales3day','mean_change_sales5day',\n",
    "                    'mean_change_sales7day']\n",
    "User_data = User_data.reset_index(drop = False)\n",
    "train_df = train_df.merge(User_data, on = \"Course_ID\", how = \"left\")\n",
    "test_df = test_df.merge(User_data, on = \"Course_ID\", how = \"left\")"
   ]
  },
  {
   "cell_type": "code",
   "execution_count": 32,
   "metadata": {},
   "outputs": [],
   "source": [
    "train_df['traffic_shift1'] = train_df.groupby(\"Course_ID\")[\"User_Traffic\"].shift(1).fillna(0)\n",
    "train_df['traffic_shift3'] = train_df.groupby(\"Course_ID\")[\"User_Traffic\"].shift(3).fillna(0)\n",
    "train_df['traffic_shift5'] = train_df.groupby(\"Course_ID\")[\"User_Traffic\"].shift(5).fillna(0)\n",
    "train_df['traffic_shift7'] = train_df.groupby(\"Course_ID\")[\"User_Traffic\"].shift(7).fillna(0)"
   ]
  },
  {
   "cell_type": "code",
   "execution_count": 33,
   "metadata": {},
   "outputs": [],
   "source": [
    "train_df['change_traffic_1day'] = (train_df['traffic_shift1'] - train_df['User_Traffic'])*100/train_df['User_Traffic'] \n",
    "train_df['change_traffic_3day'] = (train_df['traffic_shift3'] - train_df['User_Traffic'])*100/train_df['User_Traffic'] \n",
    "train_df['change_traffic_5day'] = (train_df['traffic_shift5'] - train_df['User_Traffic'])*100/train_df['User_Traffic'] \n",
    "train_df['change_traffic_7day'] = (train_df['traffic_shift7'] - train_df['User_Traffic'])*100/train_df['User_Traffic'] "
   ]
  },
  {
   "cell_type": "code",
   "execution_count": 34,
   "metadata": {},
   "outputs": [],
   "source": [
    "User_data = train_df.groupby(\"Course_ID\").agg({\"change_traffic_1day\": \"mean\", \"change_traffic_3day\": \"mean\",\n",
    "                        \"change_traffic_5day\":\"mean\", \"change_traffic_7day\": \"mean\"})\n",
    "User_data.columns = ['mean_change_traffic1day', 'mean_change_traffic3day','mean_change_traffic5day',\n",
    "                    'mean_change_traffic7day']\n",
    "User_data = User_data.reset_index(drop = False)\n",
    "train_df = train_df.merge(User_data, on = \"Course_ID\", how = \"left\")\n",
    "test_df = test_df.merge(User_data, on = \"Course_ID\", how = \"left\")"
   ]
  },
  {
   "cell_type": "code",
   "execution_count": 35,
   "metadata": {},
   "outputs": [],
   "source": [
    "train_df.drop(['User_Traffic','Date'], axis = 1, inplace = True)\n",
    "test_df.drop('Date', axis = 1, inplace = True)"
   ]
  },
  {
   "cell_type": "code",
   "execution_count": 36,
   "metadata": {},
   "outputs": [],
   "source": [
    "train_df.drop(['sales_shift1', 'sales_shift3','sales_shift5', 'sales_shift7', 'change_sales_1day',\n",
    "       'change_sales_3day', 'change_sales_5day', 'change_sales_7day','traffic_shift1','traffic_shift3',\n",
    "        'traffic_shift5', 'traffic_shift7', 'change_traffic_1day', 'change_traffic_3day',\n",
    "        'change_traffic_5day', 'change_traffic_7day'], axis = 1, inplace = True)"
   ]
  },
  {
   "cell_type": "code",
   "execution_count": 37,
   "metadata": {},
   "outputs": [],
   "source": [
    "train_df = train_df.replace(np.inf, 0)\n",
    "train_df = train_df.fillna(0)\n",
    "test_df = test_df.replace(np.inf, 0)\n",
    "test_df = test_df.fillna(0)"
   ]
  },
  {
   "cell_type": "code",
   "execution_count": 38,
   "metadata": {},
   "outputs": [
    {
     "name": "stdout",
     "output_type": "stream",
     "text": [
      "                         Course_ID  Course_Domain  Course_Type  Short_Promotion  Public_Holiday  \\\n",
      "Course_ID                1.000e+00      5.524e-02    5.299e-02       -2.695e-05       1.242e-03   \n",
      "Course_Domain            5.524e-02      1.000e+00    1.291e-01        1.158e-05      -1.442e-04   \n",
      "Course_Type              5.299e-02      1.291e-01    1.000e+00        3.272e-04      -2.394e-03   \n",
      "Short_Promotion         -2.695e-05      1.158e-05    3.272e-04        1.000e+00      -1.877e-02   \n",
      "Public_Holiday           1.242e-03     -1.442e-04   -2.394e-03       -1.877e-02       1.000e+00   \n",
      "Long_Promotion          -3.961e-02      4.563e-02    2.006e-02       -1.149e-03       8.319e-03   \n",
      "Competition_Metric      -7.381e-03     -4.397e-02    1.295e-01        1.821e-04      -4.906e-04   \n",
      "Sales                    1.689e-02      5.091e-02    1.460e-01        3.678e-01      -1.351e-01   \n",
      "week                    -1.832e-04      8.207e-05    2.049e-03       -2.629e-02      -5.045e-02   \n",
      "month                   -1.747e-04      7.824e-05    1.955e-03       -1.105e-02      -6.235e-02   \n",
      "week_day                -3.880e-06      2.508e-06    2.835e-06       -7.528e-02      -6.032e-02   \n",
      "day_of_year             -1.728e-04      7.746e-05    1.931e-03       -1.339e-02      -5.361e-02   \n",
      "day                     -1.158e-05      5.940e-06    8.991e-05       -3.403e-02       1.085e-01   \n",
      "month_end                1.485e-06     -7.566e-07   -1.178e-05        4.806e-02       3.591e-02   \n",
      "month_start              1.485e-06     -7.566e-07   -1.178e-05        6.160e-02       4.200e-03   \n",
      "total_traffic_courseid   3.611e-02      7.247e-02    1.090e-01        1.144e-03      -6.789e-03   \n",
      "mean_traffic_courseid    3.778e-02      7.149e-02    1.021e-01        6.999e-04      -4.679e-03   \n",
      "total_sales_courseid     2.161e-02      6.639e-02    2.011e-01        1.071e-03      -5.811e-03   \n",
      "mean_sales_courseid      2.250e-02      6.781e-02    1.945e-01        3.754e-04      -2.479e-03   \n",
      "traffic_rank_id         -7.597e-03      3.388e-03    8.575e-02        3.835e-03      -1.845e-02   \n",
      "sales_rank_id           -7.597e-03      3.388e-03    8.575e-02        3.835e-03      -1.845e-02   \n",
      "buy_percent             -1.506e-02      9.334e-02    1.950e-01       -9.651e-04       6.467e-03   \n",
      "tot_traffic_id_domain    3.611e-02      7.247e-02    1.090e-01        1.144e-03      -6.789e-03   \n",
      "mean_traffic_id_domain   3.778e-02      7.149e-02    1.021e-01        6.999e-04      -4.679e-03   \n",
      "tot_sales_id_domain      2.161e-02      6.639e-02    2.011e-01        1.071e-03      -5.811e-03   \n",
      "mean_sales_id_domain_x   2.250e-02      6.781e-02    1.945e-01        3.754e-04      -2.479e-03   \n",
      "buy_percent_id_domain   -1.506e-02      9.334e-02    1.950e-01       -9.651e-04       6.467e-03   \n",
      "tot_traffic_id_type      3.611e-02      7.247e-02    1.090e-01        1.144e-03      -6.789e-03   \n",
      "mean_traffic_id_type     3.778e-02      7.149e-02    1.021e-01        6.999e-04      -4.679e-03   \n",
      "tot_sales_id_type        2.161e-02      6.639e-02    2.011e-01        1.071e-03      -5.811e-03   \n",
      "mean_sales_id_domain_y   2.250e-02      6.781e-02    1.945e-01        3.754e-04      -2.479e-03   \n",
      "buy_percent_id_type     -1.506e-02      9.334e-02    1.950e-01       -9.651e-04       6.467e-03   \n",
      "tot_traffic_id_do_ty     3.611e-02      7.247e-02    1.090e-01        1.144e-03      -6.789e-03   \n",
      "mean_traffic_id_do_ty    3.778e-02      7.149e-02    1.021e-01        6.999e-04      -4.679e-03   \n",
      "tot_sales_id_do_ty       2.161e-02      6.639e-02    2.011e-01        1.071e-03      -5.811e-03   \n",
      "mean_sales_id_do_ty      2.250e-02      6.781e-02    1.945e-01        3.754e-04      -2.479e-03   \n",
      "tot_traffic_id_weekday   3.496e-02      7.018e-02    1.055e-01        5.600e-02       5.241e-03   \n",
      "tot_sales_id_weekday     2.017e-02      6.200e-02    1.878e-01        9.825e-02       1.414e-02   \n",
      "tot_traffic_id_week      3.298e-02      6.459e-02    9.123e-02        2.134e-02       4.606e-03   \n",
      "tot_sales_id_week        1.794e-02      5.572e-02    1.594e-01        3.008e-02       1.094e-02   \n",
      "mean_metric_id          -7.381e-03     -4.397e-02    1.295e-01        1.821e-04      -4.906e-04   \n",
      "metric_rank_id          -7.597e-03      3.388e-03    8.575e-02        3.835e-03      -1.845e-02   \n",
      "mean_metric_id_longpro  -7.381e-03     -4.397e-02    1.295e-01        1.821e-04      -4.906e-04   \n",
      "mean_metric_id_Shortpro -7.381e-03     -4.397e-02    1.295e-01        1.821e-04      -4.906e-04   \n",
      "mean_metric_id_weekday  -7.381e-03     -4.397e-02    1.295e-01        1.821e-04      -4.906e-04   \n",
      "mean_change_sales1day   -6.266e-02     -1.229e-01   -1.849e-01       -1.179e-04       3.762e-03   \n",
      "mean_change_sales3day   -5.843e-02     -1.424e-01   -1.851e-01        3.542e-04       1.209e-03   \n",
      "mean_change_sales5day   -5.977e-02     -1.506e-01   -2.085e-01        5.304e-04       3.978e-05   \n",
      "mean_change_sales7day   -4.497e-02     -2.912e-02   -2.093e-01       -3.390e-05       4.256e-03   \n",
      "mean_change_traffic1day -2.282e-02     -2.257e-01   -1.894e-01        1.382e-04       2.572e-03   \n",
      "mean_change_traffic3day -2.564e-02     -2.267e-01   -1.803e-01        4.565e-04       9.087e-04   \n",
      "mean_change_traffic5day -1.990e-02     -2.403e-01   -1.986e-01        6.169e-04      -9.015e-05   \n",
      "mean_change_traffic7day  2.270e-02     -1.162e-01   -2.252e-01       -2.124e-05       5.677e-03   \n",
      "\n",
      "                         Long_Promotion  Competition_Metric      Sales       week      month  \\\n",
      "Course_ID                    -3.961e-02          -7.381e-03  1.689e-02 -1.832e-04 -1.747e-04   \n",
      "Course_Domain                 4.563e-02          -4.397e-02  5.091e-02  8.207e-05  7.824e-05   \n",
      "Course_Type                   2.006e-02           1.295e-01  1.460e-01  2.049e-03  1.955e-03   \n",
      "Short_Promotion              -1.149e-03           1.821e-04  3.678e-01 -2.629e-02 -1.105e-02   \n",
      "Public_Holiday                8.319e-03          -4.906e-04 -1.351e-01 -5.045e-02 -6.235e-02   \n",
      "Long_Promotion                1.000e+00          -1.192e-01 -1.095e-01 -7.148e-03 -6.820e-03   \n",
      "Competition_Metric           -1.192e-01           1.000e+00 -2.205e-02  1.143e-03  1.091e-03   \n",
      "Sales                        -1.095e-01          -2.205e-02  1.000e+00 -4.468e-03 -1.296e-03   \n",
      "week                         -7.148e-03           1.143e-03 -4.468e-03  1.000e+00  9.808e-01   \n",
      "month                        -6.820e-03           1.091e-03 -1.296e-03  9.808e-01  1.000e+00   \n",
      "week_day                      2.866e-06           2.150e-06  7.002e-02  3.681e-03  6.617e-03   \n",
      "day_of_year                  -6.734e-03           1.077e-03 -3.292e-04  9.824e-01  9.970e-01   \n",
      "day                          -3.011e-04           5.071e-05  1.172e-02  8.014e-02  2.245e-02   \n",
      "month_end                     3.956e-05          -6.637e-06  3.247e-02 -5.210e-03  1.130e-02   \n",
      "month_start                   3.956e-05          -6.637e-06  2.388e-02 -2.460e-02 -2.590e-03   \n",
      "total_traffic_courseid       -2.600e-01          -1.577e-01  6.087e-01  7.129e-03  6.802e-03   \n",
      "mean_traffic_courseid        -2.303e-01          -1.675e-01  6.198e-01  4.361e-03  4.161e-03   \n",
      "total_sales_courseid         -1.952e-01          -2.137e-02  7.369e-01  6.682e-03  6.376e-03   \n",
      "mean_sales_courseid          -1.458e-01          -2.937e-02  7.508e-01  2.350e-03  2.242e-03   \n",
      "traffic_rank_id              -2.993e-01           4.782e-02  7.383e-02  2.388e-02  2.279e-02   \n",
      "sales_rank_id                -2.993e-01           4.782e-02  7.383e-02  2.388e-02  2.279e-02   \n",
      "buy_percent                   2.897e-01           2.468e-01  1.951e-02 -5.993e-03 -5.719e-03   \n",
      "tot_traffic_id_domain        -2.600e-01          -1.577e-01  6.087e-01  7.129e-03  6.802e-03   \n",
      "mean_traffic_id_domain       -2.303e-01          -1.675e-01  6.198e-01  4.361e-03  4.161e-03   \n",
      "tot_sales_id_domain          -1.952e-01          -2.137e-02  7.369e-01  6.682e-03  6.376e-03   \n",
      "mean_sales_id_domain_x       -1.458e-01          -2.937e-02  7.508e-01  2.350e-03  2.242e-03   \n",
      "buy_percent_id_domain         2.897e-01           2.468e-01  1.951e-02 -5.993e-03 -5.719e-03   \n",
      "tot_traffic_id_type          -2.600e-01          -1.577e-01  6.087e-01  7.129e-03  6.802e-03   \n",
      "mean_traffic_id_type         -2.303e-01          -1.675e-01  6.198e-01  4.361e-03  4.161e-03   \n",
      "tot_sales_id_type            -1.952e-01          -2.137e-02  7.369e-01  6.682e-03  6.376e-03   \n",
      "mean_sales_id_domain_y       -1.458e-01          -2.937e-02  7.508e-01  2.350e-03  2.242e-03   \n",
      "buy_percent_id_type           2.897e-01           2.468e-01  1.951e-02 -5.993e-03 -5.719e-03   \n",
      "tot_traffic_id_do_ty         -2.600e-01          -1.577e-01  6.087e-01  7.129e-03  6.802e-03   \n",
      "mean_traffic_id_do_ty        -2.303e-01          -1.675e-01  6.198e-01  4.361e-03  4.161e-03   \n",
      "tot_sales_id_do_ty           -1.952e-01          -2.137e-02  7.369e-01  6.682e-03  6.376e-03   \n",
      "mean_sales_id_do_ty          -1.458e-01          -2.937e-02  7.508e-01  2.350e-03  2.242e-03   \n",
      "tot_traffic_id_weekday       -2.517e-01          -1.527e-01  6.591e-01  7.036e-03  7.184e-03   \n",
      "tot_sales_id_weekday         -1.823e-01          -1.995e-02  7.948e-01  6.496e-03  7.217e-03   \n",
      "tot_traffic_id_week          -2.109e-01          -1.489e-01  5.738e-01 -7.337e-02 -7.119e-02   \n",
      "tot_sales_id_week            -1.293e-01          -2.629e-02  6.620e-01 -8.970e-02 -8.836e-02   \n",
      "mean_metric_id               -1.192e-01           1.000e+00 -2.205e-02  1.143e-03  1.091e-03   \n",
      "metric_rank_id               -2.993e-01           4.782e-02  7.383e-02  2.388e-02  2.279e-02   \n",
      "mean_metric_id_longpro       -1.192e-01           1.000e+00 -2.205e-02  1.143e-03  1.091e-03   \n",
      "mean_metric_id_Shortpro      -1.192e-01           1.000e+00 -2.205e-02  1.143e-03  1.091e-03   \n",
      "mean_metric_id_weekday       -1.192e-01           1.000e+00 -2.205e-02  1.143e-03  1.091e-03   \n",
      "mean_change_sales1day         1.081e-01           1.206e-01 -2.090e-01 -7.539e-04 -7.192e-04   \n",
      "mean_change_sales3day         6.936e-02           1.100e-01 -1.742e-01  2.179e-03  2.079e-03   \n",
      "mean_change_sales5day         7.459e-02           8.891e-02 -1.786e-01  3.279e-03  3.129e-03   \n",
      "mean_change_sales7day         2.043e-01          -4.987e-02 -1.901e-01 -2.452e-04 -2.338e-04   \n",
      "mean_change_traffic1day       1.583e-02           2.556e-01 -1.470e-01  8.627e-04  8.231e-04   \n",
      "mean_change_traffic3day      -3.421e-04           2.083e-01 -1.213e-01  2.843e-03  2.713e-03   \n",
      "mean_change_traffic5day      -9.576e-03           1.945e-01 -1.194e-01  3.842e-03  3.666e-03   \n",
      "mean_change_traffic7day       1.426e-01           4.026e-02 -9.191e-02 -1.403e-04 -1.338e-04   \n",
      "\n",
      "                                  ...             mean_metric_id_Shortpro  mean_metric_id_weekday  \\\n",
      "Course_ID                         ...                          -7.381e-03              -7.381e-03   \n",
      "Course_Domain                     ...                          -4.397e-02              -4.397e-02   \n",
      "Course_Type                       ...                           1.295e-01               1.295e-01   \n",
      "Short_Promotion                   ...                           1.821e-04               1.821e-04   \n",
      "Public_Holiday                    ...                          -4.906e-04              -4.906e-04   \n",
      "Long_Promotion                    ...                          -1.192e-01              -1.192e-01   \n",
      "Competition_Metric                ...                           1.000e+00               1.000e+00   \n",
      "Sales                             ...                          -2.205e-02              -2.205e-02   \n",
      "week                              ...                           1.143e-03               1.143e-03   \n",
      "month                             ...                           1.091e-03               1.091e-03   \n",
      "week_day                          ...                           2.150e-06               2.150e-06   \n",
      "day_of_year                       ...                           1.077e-03               1.077e-03   \n",
      "day                               ...                           5.071e-05               5.071e-05   \n",
      "month_end                         ...                          -6.637e-06              -6.637e-06   \n",
      "month_start                       ...                          -6.637e-06              -6.637e-06   \n",
      "total_traffic_courseid            ...                          -1.577e-01              -1.577e-01   \n",
      "mean_traffic_courseid             ...                          -1.675e-01              -1.675e-01   \n",
      "total_sales_courseid              ...                          -2.137e-02              -2.137e-02   \n",
      "mean_sales_courseid               ...                          -2.937e-02              -2.937e-02   \n",
      "traffic_rank_id                   ...                           4.782e-02               4.782e-02   \n",
      "sales_rank_id                     ...                           4.782e-02               4.782e-02   \n",
      "buy_percent                       ...                           2.468e-01               2.468e-01   \n",
      "tot_traffic_id_domain             ...                          -1.577e-01              -1.577e-01   \n",
      "mean_traffic_id_domain            ...                          -1.675e-01              -1.675e-01   \n",
      "tot_sales_id_domain               ...                          -2.137e-02              -2.137e-02   \n",
      "mean_sales_id_domain_x            ...                          -2.937e-02              -2.937e-02   \n",
      "buy_percent_id_domain             ...                           2.468e-01               2.468e-01   \n",
      "tot_traffic_id_type               ...                          -1.577e-01              -1.577e-01   \n",
      "mean_traffic_id_type              ...                          -1.675e-01              -1.675e-01   \n",
      "tot_sales_id_type                 ...                          -2.137e-02              -2.137e-02   \n",
      "mean_sales_id_domain_y            ...                          -2.937e-02              -2.937e-02   \n",
      "buy_percent_id_type               ...                           2.468e-01               2.468e-01   \n",
      "tot_traffic_id_do_ty              ...                          -1.577e-01              -1.577e-01   \n",
      "mean_traffic_id_do_ty             ...                          -1.675e-01              -1.675e-01   \n",
      "tot_sales_id_do_ty                ...                          -2.137e-02              -2.137e-02   \n",
      "mean_sales_id_do_ty               ...                          -2.937e-02              -2.937e-02   \n",
      "tot_traffic_id_weekday            ...                          -1.527e-01              -1.527e-01   \n",
      "tot_sales_id_weekday              ...                          -1.995e-02              -1.995e-02   \n",
      "tot_traffic_id_week               ...                          -1.489e-01              -1.489e-01   \n",
      "tot_sales_id_week                 ...                          -2.629e-02              -2.629e-02   \n",
      "mean_metric_id                    ...                           1.000e+00               1.000e+00   \n",
      "metric_rank_id                    ...                           4.782e-02               4.782e-02   \n",
      "mean_metric_id_longpro            ...                           1.000e+00               1.000e+00   \n",
      "mean_metric_id_Shortpro           ...                           1.000e+00               1.000e+00   \n",
      "mean_metric_id_weekday            ...                           1.000e+00               1.000e+00   \n",
      "mean_change_sales1day             ...                           1.206e-01               1.206e-01   \n",
      "mean_change_sales3day             ...                           1.100e-01               1.100e-01   \n",
      "mean_change_sales5day             ...                           8.891e-02               8.891e-02   \n",
      "mean_change_sales7day             ...                          -4.987e-02              -4.987e-02   \n",
      "mean_change_traffic1day           ...                           2.556e-01               2.556e-01   \n",
      "mean_change_traffic3day           ...                           2.083e-01               2.083e-01   \n",
      "mean_change_traffic5day           ...                           1.945e-01               1.945e-01   \n",
      "mean_change_traffic7day           ...                           4.026e-02               4.026e-02   \n",
      "\n",
      "                         mean_change_sales1day  mean_change_sales3day  mean_change_sales5day  \\\n",
      "Course_ID                           -6.266e-02             -5.843e-02             -5.977e-02   \n",
      "Course_Domain                       -1.229e-01             -1.424e-01             -1.506e-01   \n",
      "Course_Type                         -1.849e-01             -1.851e-01             -2.085e-01   \n",
      "Short_Promotion                     -1.179e-04              3.542e-04              5.304e-04   \n",
      "Public_Holiday                       3.762e-03              1.209e-03              3.978e-05   \n",
      "Long_Promotion                       1.081e-01              6.936e-02              7.459e-02   \n",
      "Competition_Metric                   1.206e-01              1.100e-01              8.891e-02   \n",
      "Sales                               -2.090e-01             -1.742e-01             -1.786e-01   \n",
      "week                                -7.539e-04              2.179e-03              3.279e-03   \n",
      "month                               -7.192e-04              2.079e-03              3.129e-03   \n",
      "week_day                            -4.951e-06             -6.963e-06             -6.423e-06   \n",
      "day_of_year                         -7.105e-04              2.052e-03              3.089e-03   \n",
      "day                                 -3.690e-05              8.585e-05              1.332e-04   \n",
      "month_end                            4.798e-06             -1.133e-05             -1.754e-05   \n",
      "month_start                          4.798e-06             -1.133e-05             -1.754e-05   \n",
      "total_traffic_courseid              -2.188e-01             -1.498e-01             -1.510e-01   \n",
      "mean_traffic_courseid               -2.222e-01             -1.658e-01             -1.728e-01   \n",
      "total_sales_courseid                -2.724e-01             -2.059e-01             -2.027e-01   \n",
      "mean_sales_courseid                 -2.783e-01             -2.321e-01             -2.378e-01   \n",
      "traffic_rank_id                     -3.147e-02              9.136e-02              1.374e-01   \n",
      "sales_rank_id                       -3.147e-02              9.136e-02              1.374e-01   \n",
      "buy_percent                         -7.642e-02             -1.160e-01             -1.195e-01   \n",
      "tot_traffic_id_domain               -2.188e-01             -1.498e-01             -1.510e-01   \n",
      "mean_traffic_id_domain              -2.222e-01             -1.658e-01             -1.728e-01   \n",
      "tot_sales_id_domain                 -2.724e-01             -2.059e-01             -2.027e-01   \n",
      "mean_sales_id_domain_x              -2.783e-01             -2.321e-01             -2.378e-01   \n",
      "buy_percent_id_domain               -7.642e-02             -1.160e-01             -1.195e-01   \n",
      "tot_traffic_id_type                 -2.188e-01             -1.498e-01             -1.510e-01   \n",
      "mean_traffic_id_type                -2.222e-01             -1.658e-01             -1.728e-01   \n",
      "tot_sales_id_type                   -2.724e-01             -2.059e-01             -2.027e-01   \n",
      "mean_sales_id_domain_y              -2.783e-01             -2.321e-01             -2.378e-01   \n",
      "buy_percent_id_type                 -7.642e-02             -1.160e-01             -1.195e-01   \n",
      "tot_traffic_id_do_ty                -2.188e-01             -1.498e-01             -1.510e-01   \n",
      "mean_traffic_id_do_ty               -2.222e-01             -1.658e-01             -1.728e-01   \n",
      "tot_sales_id_do_ty                  -2.724e-01             -2.059e-01             -2.027e-01   \n",
      "mean_sales_id_do_ty                 -2.783e-01             -2.321e-01             -2.378e-01   \n",
      "tot_traffic_id_weekday              -2.119e-01             -1.451e-01             -1.463e-01   \n",
      "tot_sales_id_weekday                -2.543e-01             -1.923e-01             -1.893e-01   \n",
      "tot_traffic_id_week                 -1.971e-01             -1.441e-01             -1.488e-01   \n",
      "tot_sales_id_week                   -2.281e-01             -1.859e-01             -1.885e-01   \n",
      "mean_metric_id                       1.206e-01              1.100e-01              8.891e-02   \n",
      "metric_rank_id                      -3.147e-02              9.136e-02              1.374e-01   \n",
      "mean_metric_id_longpro               1.206e-01              1.100e-01              8.891e-02   \n",
      "mean_metric_id_Shortpro              1.206e-01              1.100e-01              8.891e-02   \n",
      "mean_metric_id_weekday               1.206e-01              1.100e-01              8.891e-02   \n",
      "mean_change_sales1day                1.000e+00              9.695e-01              9.405e-01   \n",
      "mean_change_sales3day                9.695e-01              1.000e+00              9.775e-01   \n",
      "mean_change_sales5day                9.405e-01              9.775e-01              1.000e+00   \n",
      "mean_change_sales7day                8.585e-01              8.548e-01              8.626e-01   \n",
      "mean_change_traffic1day              6.846e-01              6.950e-01              6.705e-01   \n",
      "mean_change_traffic3day              6.861e-01              7.319e-01              7.085e-01   \n",
      "mean_change_traffic5day              6.631e-01              7.166e-01              7.228e-01   \n",
      "mean_change_traffic7day              5.935e-01              6.253e-01              6.222e-01   \n",
      "\n",
      "                         mean_change_sales7day  mean_change_traffic1day  mean_change_traffic3day  \\\n",
      "Course_ID                           -4.497e-02               -2.282e-02               -2.564e-02   \n",
      "Course_Domain                       -2.912e-02               -2.257e-01               -2.267e-01   \n",
      "Course_Type                         -2.093e-01               -1.894e-01               -1.803e-01   \n",
      "Short_Promotion                     -3.390e-05                1.382e-04                4.565e-04   \n",
      "Public_Holiday                       4.256e-03                2.572e-03                9.087e-04   \n",
      "Long_Promotion                       2.043e-01                1.583e-02               -3.421e-04   \n",
      "Competition_Metric                  -4.987e-02                2.556e-01                2.083e-01   \n",
      "Sales                               -1.901e-01               -1.470e-01               -1.213e-01   \n",
      "week                                -2.452e-04                8.627e-04                2.843e-03   \n",
      "month                               -2.338e-04                8.231e-04                2.713e-03   \n",
      "week_day                            -8.609e-06                4.024e-07               -1.378e-07   \n",
      "day_of_year                         -2.315e-04                8.127e-04                2.678e-03   \n",
      "day                                 -1.884e-05                3.708e-05                1.208e-04   \n",
      "month_end                            2.393e-06               -4.864e-06               -1.585e-05   \n",
      "month_start                          2.393e-06               -4.864e-06               -1.585e-05   \n",
      "total_traffic_courseid              -2.237e-01               -1.439e-01               -8.591e-02   \n",
      "mean_traffic_courseid               -2.291e-01               -1.527e-01               -1.032e-01   \n",
      "total_sales_courseid                -2.436e-01               -1.823e-01               -1.342e-01   \n",
      "mean_sales_courseid                 -2.532e-01               -1.958e-01               -1.616e-01   \n",
      "traffic_rank_id                     -1.010e-02                3.611e-02                1.190e-01   \n",
      "sales_rank_id                       -1.010e-02                3.611e-02                1.190e-01   \n",
      "buy_percent                         -2.214e-02               -8.017e-02               -1.199e-01   \n",
      "tot_traffic_id_domain               -2.237e-01               -1.439e-01               -8.591e-02   \n",
      "mean_traffic_id_domain              -2.291e-01               -1.527e-01               -1.032e-01   \n",
      "tot_sales_id_domain                 -2.436e-01               -1.823e-01               -1.342e-01   \n",
      "mean_sales_id_domain_x              -2.532e-01               -1.958e-01               -1.616e-01   \n",
      "buy_percent_id_domain               -2.214e-02               -8.017e-02               -1.199e-01   \n",
      "tot_traffic_id_type                 -2.237e-01               -1.439e-01               -8.591e-02   \n",
      "mean_traffic_id_type                -2.291e-01               -1.527e-01               -1.032e-01   \n",
      "tot_sales_id_type                   -2.436e-01               -1.823e-01               -1.342e-01   \n",
      "mean_sales_id_domain_y              -2.532e-01               -1.958e-01               -1.616e-01   \n",
      "buy_percent_id_type                 -2.214e-02               -8.017e-02               -1.199e-01   \n",
      "tot_traffic_id_do_ty                -2.237e-01               -1.439e-01               -8.591e-02   \n",
      "mean_traffic_id_do_ty               -2.291e-01               -1.527e-01               -1.032e-01   \n",
      "tot_sales_id_do_ty                  -2.436e-01               -1.823e-01               -1.342e-01   \n",
      "mean_sales_id_do_ty                 -2.532e-01               -1.958e-01               -1.616e-01   \n",
      "tot_traffic_id_weekday              -2.166e-01               -1.393e-01               -8.320e-02   \n",
      "tot_sales_id_weekday                -2.274e-01               -1.702e-01               -1.253e-01   \n",
      "tot_traffic_id_week                 -2.021e-01               -1.346e-01               -8.859e-02   \n",
      "tot_sales_id_week                   -2.059e-01               -1.593e-01               -1.283e-01   \n",
      "mean_metric_id                      -4.987e-02                2.556e-01                2.083e-01   \n",
      "metric_rank_id                      -1.010e-02                3.611e-02                1.190e-01   \n",
      "mean_metric_id_longpro              -4.987e-02                2.556e-01                2.083e-01   \n",
      "mean_metric_id_Shortpro             -4.987e-02                2.556e-01                2.083e-01   \n",
      "mean_metric_id_weekday              -4.987e-02                2.556e-01                2.083e-01   \n",
      "mean_change_sales1day                8.585e-01                6.846e-01                6.861e-01   \n",
      "mean_change_sales3day                8.548e-01                6.950e-01                7.319e-01   \n",
      "mean_change_sales5day                8.626e-01                6.705e-01                7.085e-01   \n",
      "mean_change_sales7day                1.000e+00                4.332e-01                4.560e-01   \n",
      "mean_change_traffic1day              4.332e-01                1.000e+00                9.781e-01   \n",
      "mean_change_traffic3day              4.560e-01                9.781e-01                1.000e+00   \n",
      "mean_change_traffic5day              4.626e-01                9.683e-01                9.849e-01   \n",
      "mean_change_traffic7day              6.741e-01                7.462e-01                7.523e-01   \n",
      "\n",
      "                         mean_change_traffic5day  mean_change_traffic7day  \n",
      "Course_ID                             -1.990e-02                2.270e-02  \n",
      "Course_Domain                         -2.403e-01               -1.162e-01  \n",
      "Course_Type                           -1.986e-01               -2.252e-01  \n",
      "Short_Promotion                        6.169e-04               -2.124e-05  \n",
      "Public_Holiday                        -9.015e-05                5.677e-03  \n",
      "Long_Promotion                        -9.576e-03                1.426e-01  \n",
      "Competition_Metric                     1.945e-01                4.026e-02  \n",
      "Sales                                 -1.194e-01               -9.191e-02  \n",
      "week                                   3.842e-03               -1.403e-04  \n",
      "month                                  3.666e-03               -1.338e-04  \n",
      "week_day                              -1.518e-07               -2.023e-06  \n",
      "day_of_year                            3.620e-03               -1.323e-04  \n",
      "day                                    1.632e-04               -7.942e-06  \n",
      "month_end                             -2.143e-05                1.024e-06  \n",
      "month_start                           -2.143e-05                1.024e-06  \n",
      "total_traffic_courseid                -7.855e-02               -1.332e-01  \n",
      "mean_traffic_courseid                 -1.011e-01               -1.360e-01  \n",
      "total_sales_courseid                  -1.234e-01               -1.174e-01  \n",
      "mean_sales_courseid                   -1.590e-01               -1.224e-01  \n",
      "traffic_rank_id                        1.609e-01               -5.834e-03  \n",
      "sales_rank_id                          1.609e-01               -5.834e-03  \n",
      "buy_percent                           -1.289e-01                9.527e-05  \n",
      "tot_traffic_id_domain                 -7.855e-02               -1.332e-01  \n",
      "mean_traffic_id_domain                -1.011e-01               -1.360e-01  \n",
      "tot_sales_id_domain                   -1.234e-01               -1.174e-01  \n",
      "mean_sales_id_domain_x                -1.590e-01               -1.224e-01  \n",
      "buy_percent_id_domain                 -1.289e-01                9.527e-05  \n",
      "tot_traffic_id_type                   -7.855e-02               -1.332e-01  \n",
      "mean_traffic_id_type                  -1.011e-01               -1.360e-01  \n",
      "tot_sales_id_type                     -1.234e-01               -1.174e-01  \n",
      "mean_sales_id_domain_y                -1.590e-01               -1.224e-01  \n",
      "buy_percent_id_type                   -1.289e-01                9.527e-05  \n",
      "tot_traffic_id_do_ty                  -7.855e-02               -1.332e-01  \n",
      "mean_traffic_id_do_ty                 -1.011e-01               -1.360e-01  \n",
      "tot_sales_id_do_ty                    -1.234e-01               -1.174e-01  \n",
      "mean_sales_id_do_ty                   -1.590e-01               -1.224e-01  \n",
      "tot_traffic_id_weekday                -7.607e-02               -1.290e-01  \n",
      "tot_sales_id_weekday                  -1.152e-01               -1.096e-01  \n",
      "tot_traffic_id_week                   -8.530e-02               -1.209e-01  \n",
      "tot_sales_id_week                     -1.243e-01               -1.006e-01  \n",
      "mean_metric_id                         1.945e-01                4.026e-02  \n",
      "metric_rank_id                         1.609e-01               -5.834e-03  \n",
      "mean_metric_id_longpro                 1.945e-01                4.026e-02  \n",
      "mean_metric_id_Shortpro                1.945e-01                4.026e-02  \n",
      "mean_metric_id_weekday                 1.945e-01                4.026e-02  \n",
      "mean_change_sales1day                  6.631e-01                5.935e-01  \n",
      "mean_change_sales3day                  7.166e-01                6.253e-01  \n",
      "mean_change_sales5day                  7.228e-01                6.222e-01  \n",
      "mean_change_sales7day                  4.626e-01                6.741e-01  \n",
      "mean_change_traffic1day                9.683e-01                7.462e-01  \n",
      "mean_change_traffic3day                9.849e-01                7.523e-01  \n",
      "mean_change_traffic5day                1.000e+00                7.638e-01  \n",
      "mean_change_traffic7day                7.638e-01                1.000e+00  \n",
      "\n",
      "[53 rows x 53 columns]\n"
     ]
    }
   ],
   "source": [
    "from pandas import set_option\n",
    "correlation = train_df.corr()\n",
    "set_option('display.width', 100)\n",
    "set_option('precision', 3)\n",
    "print (correlation)"
   ]
  },
  {
   "cell_type": "code",
   "execution_count": 39,
   "metadata": {},
   "outputs": [
    {
     "data": {
      "image/png": "[encoded data removed]",
      "text/plain": [
       "<matplotlib.figure.Figure at 0x174a0ae0a58>"
      ]
     },
     "metadata": {},
     "output_type": "display_data"
    }
   ],
   "source": [
    "fig = plt.figure(figsize = (22, 12))\n",
    "ax = fig.add_subplot(111)\n",
    "cax = ax.matshow(correlation, vmin=-1, vmax=1)\n",
    "fig.colorbar(cax)\n",
    "plt.show()"
   ]
  },
  {
   "cell_type": "code",
   "execution_count": 38,
   "metadata": {},
   "outputs": [
    {
     "data": {
      "text/plain": [
       "Index(['Course_ID', 'Course_Domain', 'Course_Type', 'Short_Promotion',\n",
       "       'Public_Holiday', 'Long_Promotion', 'Competition_Metric', 'week',\n",
       "       'month', 'week_day', 'day_of_year', 'day', 'month_end', 'month_start',\n",
       "       'total_traffic_courseid', 'mean_traffic_courseid',\n",
       "       'total_sales_courseid', 'mean_sales_courseid', 'traffic_rank_id',\n",
       "       'sales_rank_id', 'buy_percent', 'tot_traffic_id_domain',\n",
       "       'mean_traffic_id_domain', 'tot_sales_id_domain',\n",
       "       'mean_sales_id_domain_x', 'buy_percent_id_domain',\n",
       "       'tot_traffic_id_type', 'mean_traffic_id_type', 'tot_sales_id_type',\n",
       "       'mean_sales_id_domain_y', 'buy_percent_id_type', 'tot_traffic_id_do_ty',\n",
       "       'mean_traffic_id_do_ty', 'tot_sales_id_do_ty', 'mean_sales_id_do_ty',\n",
       "       'tot_traffic_id_weekday', 'tot_sales_id_weekday', 'tot_traffic_id_week',\n",
       "       'tot_sales_id_week', 'mean_metric_id', 'metric_rank_id',\n",
       "       'mean_metric_id_longpro', 'mean_metric_id_Shortpro',\n",
       "       'mean_metric_id_weekday', 'mean_change_sales1day',\n",
       "       'mean_change_sales3day', 'mean_change_sales5day',\n",
       "       'mean_change_sales7day', 'mean_change_traffic1day',\n",
       "       'mean_change_traffic3day', 'mean_change_traffic5day',\n",
       "       'mean_change_traffic7day'],\n",
       "      dtype='object')"
      ]
     },
     "execution_count": 38,
     "metadata": {},
     "output_type": "execute_result"
    }
   ],
   "source": [
    "test_df.columns"
   ]
  },
  {
   "cell_type": "code",
   "execution_count": null,
   "metadata": {},
   "outputs": [],
   "source": [
    "from mlxtend.feature_selection import SequentialFeatureSelector as SFS\n",
    "sfs = SFS(RandomForestRegressor(random_state =7, n_jobs = -1),\n",
    "          k_features = 20,\n",
    "          forward = True,\n",
    "          floating = False,\n",
    "          verbose = 2,\n",
    "          scoring = 'neg_mean_squared_error',\n",
    "          cv = 5,\n",
    "          n_jobs = -1)\n",
    "sfs = sfs.fit(X_train, Y_train)"
   ]
  },
  {
   "cell_type": "code",
   "execution_count": 39,
   "metadata": {},
   "outputs": [
    {
     "data": {
      "text/plain": [
       "(512087, 53)"
      ]
     },
     "execution_count": 39,
     "metadata": {},
     "output_type": "execute_result"
    }
   ],
   "source": [
    "train_df.shape"
   ]
  },
  {
   "cell_type": "code",
   "execution_count": 40,
   "metadata": {},
   "outputs": [],
   "source": [
    "X = train_df.loc[:, train_df.columns != 'Sales']\n",
    "Y = train_df.loc[:, ['Sales']]"
   ]
  },
  {
   "cell_type": "code",
   "execution_count": 41,
   "metadata": {},
   "outputs": [
    {
     "name": "stderr",
     "output_type": "stream",
     "text": [
      "C:\\Users\\Asmita\\Anaconda3\\lib\\site-packages\\sklearn\\cross_validation.py:41: DeprecationWarning: This module was deprecated in version 0.18 in favor of the model_selection module into which all the refactored classes and functions are moved. Also note that the interface of the new CV iterators are different from that of this module. This module will be removed in 0.20.\n",
      "  \"This module will be removed in 0.20.\", DeprecationWarning)\n"
     ]
    }
   ],
   "source": [
    "# Splitting the train_data into the Training set and Test set\n",
    "from sklearn.cross_validation import train_test_split\n",
    "X_train, X_test, Y_train, Y_test = train_test_split(X, Y, test_size = 0.2, random_state = 0)"
   ]
  },
  {
   "cell_type": "code",
   "execution_count": 161,
   "metadata": {},
   "outputs": [],
   "source": [
    "from sklearn.preprocessing import StandardScaler\n",
    "sc = StandardScaler()\n",
    "X_train = sc.fit_transform(X_train)\n",
    "X_test = sc.transform(X_test)"
   ]
  },
  {
   "cell_type": "code",
   "execution_count": 42,
   "metadata": {},
   "outputs": [
    {
     "name": "stderr",
     "output_type": "stream",
     "text": [
      "C:\\Users\\Asmita\\Anaconda3\\lib\\site-packages\\sklearn\\ensemble\\weight_boosting.py:29: DeprecationWarning: numpy.core.umath_tests is an internal NumPy module and should not be imported. It will be removed in a future NumPy release.\n",
      "  from numpy.core.umath_tests import inner1d\n"
     ]
    }
   ],
   "source": [
    "from sklearn.model_selection import KFold\n",
    "from sklearn.model_selection import cross_val_score\n",
    "from sklearn.linear_model import LinearRegression\n",
    "from sklearn.linear_model import Lasso\n",
    "from sklearn.linear_model import Ridge\n",
    "from sklearn.linear_model import ElasticNet\n",
    "from sklearn.tree import DecisionTreeRegressor\n",
    "from sklearn.neighbors import KNeighborsRegressor\n",
    "from sklearn.svm import SVR\n",
    "from sklearn.metrics import mean_squared_error\n",
    "from sklearn.metrics import mean_squared_log_error\n",
    "from sklearn.ensemble import RandomForestRegressor\n",
    "from sklearn.ensemble import GradientBoostingRegressor\n",
    "from sklearn.ensemble import ExtraTreesRegressor\n",
    "from sklearn.ensemble import AdaBoostRegressor\n",
    "from sklearn.preprocessing import StandardScaler\n",
    "from xgboost import XGBRegressor\n",
    "from lightgbm import LGBMRegressor"
   ]
  },
  {
   "cell_type": "code",
   "execution_count": 213,
   "metadata": {},
   "outputs": [
    {
     "name": "stdout",
     "output_type": "stream",
     "text": [
      "Test Set\n",
      "MSE\n"
     ]
    },
    {
     "data": {
      "text/plain": [
       "0.017781898540118926"
      ]
     },
     "execution_count": 213,
     "metadata": {},
     "output_type": "execute_result"
    }
   ],
   "source": [
    "rf=  RandomForestRegressor(random_state=7)\n",
    "rf.fit(X_train, Y_train)\n",
    "pred = rf.predict(X_test)\n",
    "print('Test Set')\n",
    "print('MSE')\n",
    "mean_squared_log_error(Y_test, pred)"
   ]
  },
  {
   "cell_type": "code",
   "execution_count": 132,
   "metadata": {},
   "outputs": [
    {
     "data": {
      "text/plain": [
       "array([0.00422353, 0.00131133, 0.00078877, 0.10245661, 0.01930762,\n",
       "       0.00064388, 0.00236704, 0.02157429, 0.05651634, 0.00147922,\n",
       "       0.00116921, 0.00106793, 0.00109369, 0.00256221, 0.02161661,\n",
       "       0.00331559, 0.00333395, 0.00120465, 0.00097905, 0.00112747,\n",
       "       0.00234541, 0.00121014, 0.00104361, 0.00109923, 0.00304677,\n",
       "       0.00124298, 0.00104464, 0.00104595, 0.00299819, 0.01913156,\n",
       "       0.00637533, 0.61954416, 0.02455632, 0.05234372, 0.00233976,\n",
       "       0.00285844, 0.0054965 , 0.00413829])"
      ]
     },
     "execution_count": 132,
     "metadata": {},
     "output_type": "execute_result"
    }
   ],
   "source": [
    "rf.feature_importances_"
   ]
  },
  {
   "cell_type": "code",
   "execution_count": 133,
   "metadata": {},
   "outputs": [
    {
     "name": "stdout",
     "output_type": "stream",
     "text": [
      "('Course_ID', 0.00422353410345123)\n",
      "('Course_Domain', 0.0013113335110404578)\n",
      "('Course_Type', 0.0007887705485142551)\n",
      "('Short_Promotion', 0.1024566124901263)\n",
      "('Public_Holiday', 0.01930761630486538)\n",
      "('Long_Promotion', 0.0006438753678010668)\n",
      "('Competition_Metric', 0.0023670413459834566)\n",
      "('week_day', 0.021574286067425952)\n",
      "('day', 0.05651633518216102)\n",
      "('month_end', 0.0014792183001108568)\n",
      "('month_start', 0.001169214313975256)\n",
      "('total_traffic_courseid', 0.0010679340969991058)\n",
      "('mean_traffic_courseid', 0.0010936888293740397)\n",
      "('total_sales_courseid', 0.002562212757774465)\n",
      "('mean_sales_courseid', 0.021616609199072136)\n",
      "('traffic_rank_id', 0.00331559439211723)\n",
      "('sales_rank_id', 0.0033339490400848557)\n",
      "('buy_percent', 0.0012046542577526514)\n",
      "('tot_traffic_id_domain', 0.0009790517357177468)\n",
      "('mean_traffic_id_domain', 0.0011274675214263188)\n",
      "('tot_sales_id_domain', 0.002345409066379864)\n",
      "('buy_percent_id_domain', 0.001210142315820895)\n",
      "('tot_traffic_id_type', 0.0010436100783985608)\n",
      "('mean_traffic_id_type', 0.00109922979580403)\n",
      "('tot_sales_id_type', 0.003046774051693544)\n",
      "('buy_percent_id_type', 0.0012429809081637617)\n",
      "('tot_traffic_id_do_ty', 0.0010446410668670744)\n",
      "('mean_traffic_id_do_ty', 0.0010459471858303006)\n",
      "('tot_sales_id_do_ty', 0.002998192015984159)\n",
      "('mean_sales_id_do_ty', 0.01913156213579361)\n",
      "('tot_traffic_id_weekday', 0.006375328377308568)\n",
      "('tot_sales_id_weekday', 0.61954416202383)\n",
      "('tot_traffic_id_week', 0.024556320539428085)\n",
      "('tot_sales_id_week', 0.0523437188648585)\n",
      "('mean_metric_id', 0.0023397604964939334)\n",
      "('metric_rank_id', 0.0028584367274055084)\n",
      "('mean_change_sales7day', 0.005496499805071694)\n",
      "('mean_change_traffic7day', 0.0041382851790942015)\n"
     ]
    }
   ],
   "source": [
    "for feature in zip(X.columns, rf.feature_importances_):\n",
    "    print(feature)"
   ]
  },
  {
   "cell_type": "code",
   "execution_count": null,
   "metadata": {},
   "outputs": [
    {
     "data": {
      "text/plain": [
       "<matplotlib.axes._subplots.AxesSubplot at 0x19601bb5d68>"
      ]
     },
     "execution_count": 149,
     "metadata": {},
     "output_type": "execute_result"
    },
    {
     "data": {
      "text/plain": [
       "<matplotlib.figure.Figure at 0x19601af8d30>"
      ]
     },
     "metadata": {},
     "output_type": "display_data"
    }
   ],
   "source": [
    "plt.figure(figsize=(30,25))\n",
    "df=pd.DataFrame({'feature': X.columns,'importances': rf.feature_importances_})\n",
    "df.sort_values('importances',inplace=True)\n",
    "df.plot(kind='barh',y='importances',x='feature',color='r',figsize = (25, 20), ylim = (0, 0.05))"
   ]
  },
  {
   "cell_type": "code",
   "execution_count": 50,
   "metadata": {},
   "outputs": [
    {
     "data": {
      "text/plain": [
       "0.08273499571089701"
      ]
     },
     "execution_count": 50,
     "metadata": {},
     "output_type": "execute_result"
    }
   ],
   "source": [
    "from sklearn.linear_model import ElasticNet\n",
    "ENreg = ElasticNet(alpha=1, l1_ratio=0.5, normalize=False)\n",
    "ENreg.fit(X_train,Y_train)\n",
    "pred_1 = ENreg.predict(X_test)\n",
    "mean_squared_log_error(Y_test, pred_1)"
   ]
  },
  {
   "cell_type": "code",
   "execution_count": 43,
   "metadata": {},
   "outputs": [
    {
     "data": {
      "text/plain": [
       "298.2200949051924"
      ]
     },
     "execution_count": 43,
     "metadata": {},
     "output_type": "execute_result"
    }
   ],
   "source": [
    "from sklearn.ensemble import ExtraTreesRegressor\n",
    "et = ExtraTreesRegressor()\n",
    "et.fit(X_train,Y_train)\n",
    "pred_4 = et.predict(X_test)\n",
    "mean_squared_error(Y_test, pred_4)"
   ]
  },
  {
   "cell_type": "code",
   "execution_count": 44,
   "metadata": {},
   "outputs": [
    {
     "data": {
      "text/plain": [
       "415.1684891457364"
      ]
     },
     "execution_count": 44,
     "metadata": {},
     "output_type": "execute_result"
    }
   ],
   "source": [
    "from xgboost import XGBRegressor\n",
    "xgb = XGBRegressor()\n",
    "xgb.fit(X_train,Y_train)\n",
    "pred_7 = xgb.predict(X_test)\n",
    "mean_squared_error(Y_test, pred_7)"
   ]
  },
  {
   "cell_type": "code",
   "execution_count": 49,
   "metadata": {},
   "outputs": [
    {
     "data": {
      "text/plain": [
       "665.9289583802839"
      ]
     },
     "execution_count": 49,
     "metadata": {},
     "output_type": "execute_result"
    }
   ],
   "source": [
    "from sklearn.linear_model import Ridge\n",
    "rid = Ridge()\n",
    "rid.fit(X_train,Y_train)\n",
    "pred_7 = rid.predict(X_test)\n",
    "mean_squared_error(Y_test, pred_7)"
   ]
  },
  {
   "cell_type": "code",
   "execution_count": null,
   "metadata": {},
   "outputs": [],
   "source": [
    "from sklearn.model_selection import RandomizedSearchCV\n",
    "parameters = {'max_features':['auto','sqrt'],\n",
    "             'bootstrap': [True, False],\n",
    "             'max_depth': [10,15,20],\n",
    "             'min_samples_split': [2,5,15,100],\n",
    "             'min_samples_leaf': [2,5,10],\n",
    "             'n_estimators': [200,400,600,800]}\n",
    "rms = RandomizedSearchCV(estimator = RandomForestRegressor(random_state=7),\n",
    "                         param_distributions = parameters,\n",
    "                        scoring = 'neg_mean_squared_error', cv = 3, return_train_score=False)\n",
    "rms.fit(X_train, Y_train)\n",
    "pd.DataFrame(rms.cv_results_)[['max_features','bootstrap','max_depth','min_samples_split',\n",
    "                               'min_samples_leaf','n_estimators','mean_test_score']]"
   ]
  },
  {
   "cell_type": "code",
   "execution_count": 103,
   "metadata": {},
   "outputs": [],
   "source": [
    "pred_ENreg = ENreg.predict(test_df)\n",
    "pred_et = et.predict(test_df)\n",
    "pred_rid = rid.predict(test_df)"
   ]
  },
  {
   "cell_type": "code",
   "execution_count": 104,
   "metadata": {},
   "outputs": [],
   "source": [
    "pred_rid = pred_rid.astype(int)\n",
    "pred_et = pred_et.astype(int)\n",
    "pred_rid = pred_ENreg.astype(int)"
   ]
  },
  {
   "cell_type": "code",
   "execution_count": 105,
   "metadata": {},
   "outputs": [],
   "source": [
    "finalpred = 0.2*pred_ENreg + 0.3*pred_et + 0.5*pred_rid"
   ]
  },
  {
   "cell_type": "code",
   "execution_count": 106,
   "metadata": {},
   "outputs": [],
   "source": [
    "submission['Sales'] = finalpred"
   ]
  },
  {
   "cell_type": "code",
   "execution_count": 107,
   "metadata": {},
   "outputs": [],
   "source": [
    "submission['Sales']= submission['Sales'].astype(int)"
   ]
  },
  {
   "cell_type": "code",
   "execution_count": 108,
   "metadata": {},
   "outputs": [
    {
     "data": {
      "text/plain": [
       "count    36000.000000\n",
       "mean       126.532056\n",
       "std         45.582241\n",
       "min         27.000000\n",
       "25%         94.000000\n",
       "50%        119.000000\n",
       "75%        151.000000\n",
       "max        402.000000\n",
       "Name: Sales, dtype: float64"
      ]
     },
     "execution_count": 108,
     "metadata": {},
     "output_type": "execute_result"
    }
   ],
   "source": [
    "submission['Sales'].describe()"
   ]
  },
  {
   "cell_type": "code",
   "execution_count": 109,
   "metadata": {},
   "outputs": [
    {
     "data": {
      "text/plain": [
       "0        114\n",
       "1        128\n",
       "2         99\n",
       "3         95\n",
       "4         53\n",
       "5         78\n",
       "6         93\n",
       "7         91\n",
       "8         98\n",
       "9         84\n",
       "10        81\n",
       "11        54\n",
       "12        74\n",
       "13       129\n",
       "14       110\n",
       "15       124\n",
       "16       100\n",
       "17        93\n",
       "18        53\n",
       "19        78\n",
       "20        94\n",
       "21        89\n",
       "22        97\n",
       "23        83\n",
       "24        82\n",
       "25        55\n",
       "26        75\n",
       "27       139\n",
       "28       112\n",
       "29       109\n",
       "        ... \n",
       "35970    122\n",
       "35971    131\n",
       "35972    119\n",
       "35973     96\n",
       "35974    106\n",
       "35975    101\n",
       "35976     92\n",
       "35977     93\n",
       "35978    101\n",
       "35979    117\n",
       "35980     89\n",
       "35981    139\n",
       "35982    118\n",
       "35983    116\n",
       "35984    117\n",
       "35985    126\n",
       "35986    117\n",
       "35987     93\n",
       "35988    109\n",
       "35989     98\n",
       "35990     95\n",
       "35991     97\n",
       "35992    106\n",
       "35993    124\n",
       "35994     92\n",
       "35995    144\n",
       "35996    123\n",
       "35997    124\n",
       "35998    128\n",
       "35999    138\n",
       "Name: Sales, Length: 36000, dtype: int32"
      ]
     },
     "execution_count": 109,
     "metadata": {},
     "output_type": "execute_result"
    }
   ],
   "source": [
    "submission['Sales']"
   ]
  },
  {
   "cell_type": "code",
   "execution_count": 110,
   "metadata": {},
   "outputs": [],
   "source": [
    "submission.to_csv('5RID_3ET_2ENREG.csv', index=False)"
   ]
  },
  {
   "cell_type": "code",
   "execution_count": 111,
   "metadata": {},
   "outputs": [],
   "source": [
    "df = pd.read_csv(\"5RID_3ET_2ENREG.csv\")"
   ]
  },
  {
   "cell_type": "code",
   "execution_count": 112,
   "metadata": {},
   "outputs": [
    {
     "data": {
      "text/html": [
       "<div>\n",
       "<style scoped>\n",
       "    .dataframe tbody tr th:only-of-type {\n",
       "        vertical-align: middle;\n",
       "    }\n",
       "\n",
       "    .dataframe tbody tr th {\n",
       "        vertical-align: top;\n",
       "    }\n",
       "\n",
       "    .dataframe thead th {\n",
       "        text-align: right;\n",
       "    }\n",
       "</style>\n",
       "<table border=\"1\" class=\"dataframe\">\n",
       "  <thead>\n",
       "    <tr style=\"text-align: right;\">\n",
       "      <th></th>\n",
       "      <th>ID</th>\n",
       "      <th>Sales</th>\n",
       "    </tr>\n",
       "  </thead>\n",
       "  <tbody>\n",
       "    <tr>\n",
       "      <th>0</th>\n",
       "      <td>883</td>\n",
       "      <td>114</td>\n",
       "    </tr>\n",
       "    <tr>\n",
       "      <th>1</th>\n",
       "      <td>884</td>\n",
       "      <td>128</td>\n",
       "    </tr>\n",
       "    <tr>\n",
       "      <th>2</th>\n",
       "      <td>885</td>\n",
       "      <td>99</td>\n",
       "    </tr>\n",
       "    <tr>\n",
       "      <th>3</th>\n",
       "      <td>886</td>\n",
       "      <td>95</td>\n",
       "    </tr>\n",
       "    <tr>\n",
       "      <th>4</th>\n",
       "      <td>887</td>\n",
       "      <td>53</td>\n",
       "    </tr>\n",
       "    <tr>\n",
       "      <th>5</th>\n",
       "      <td>888</td>\n",
       "      <td>78</td>\n",
       "    </tr>\n",
       "    <tr>\n",
       "      <th>6</th>\n",
       "      <td>889</td>\n",
       "      <td>93</td>\n",
       "    </tr>\n",
       "    <tr>\n",
       "      <th>7</th>\n",
       "      <td>890</td>\n",
       "      <td>91</td>\n",
       "    </tr>\n",
       "    <tr>\n",
       "      <th>8</th>\n",
       "      <td>891</td>\n",
       "      <td>98</td>\n",
       "    </tr>\n",
       "    <tr>\n",
       "      <th>9</th>\n",
       "      <td>892</td>\n",
       "      <td>84</td>\n",
       "    </tr>\n",
       "  </tbody>\n",
       "</table>\n",
       "</div>"
      ],
      "text/plain": [
       "    ID  Sales\n",
       "0  883    114\n",
       "1  884    128\n",
       "2  885     99\n",
       "3  886     95\n",
       "4  887     53\n",
       "5  888     78\n",
       "6  889     93\n",
       "7  890     91\n",
       "8  891     98\n",
       "9  892     84"
      ]
     },
     "execution_count": 112,
     "metadata": {},
     "output_type": "execute_result"
    }
   ],
   "source": [
    "df.head(10)"
   ]
  },
  {
   "cell_type": "code",
   "execution_count": null,
   "metadata": {},
   "outputs": [],
   "source": []
  }
 ],
 "metadata": {
  "kernelspec": {
   "display_name": "Python 3",
   "language": "python",
   "name": "python3"
  },
  "language_info": {
   "codemirror_mode": {
    "name": "ipython",
    "version": 3
   },
   "file_extension": ".py",
   "mimetype": "text/x-python",
   "name": "python",
   "nbconvert_exporter": "python",
   "pygments_lexer": "ipython3",
   "version": "3.6.4"
  }
 },
 "nbformat": 4,
 "nbformat_minor": 2
}
